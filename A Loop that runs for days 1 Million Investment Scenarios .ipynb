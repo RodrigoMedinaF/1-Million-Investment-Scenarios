{
 "cells": [
  {
   "cell_type": "markdown",
   "id": "d21d6fdb",
   "metadata": {},
   "source": [
    "<h1><center>Can i use your (fast) computer??</center></h1>\n",
    "<h1><center>A Loop that runs for days</center></h1>\n",
    "<h2><center>Investment Scenarios : 1,054,550 - Estimated Run Time in Hours:  328.08</center></h2>\n",
    "<h1><center>Rodrigo Medina</center></h1>\n",
    "<h1><center>November 2022</center></h1>\n",
    "<br>"
   ]
  },
  {
   "cell_type": "markdown",
   "id": "35a0edf1",
   "metadata": {},
   "source": [
    "# Index\n"
   ]
  },
  {
   "cell_type": "markdown",
   "id": "5cdaa31c",
   "metadata": {},
   "source": [
    "### 1.Methodology\n",
    "***\n",
    "\n",
    "### 2.Implementation\n",
    "***\n",
    "\n",
    "\n",
    "<br>\n",
    "<br>"
   ]
  },
  {
   "cell_type": "code",
   "execution_count": null,
   "id": "ee81d77a",
   "metadata": {},
   "outputs": [],
   "source": [
    "from IPython.display import display"
   ]
  },
  {
   "cell_type": "markdown",
   "id": "6a80132f",
   "metadata": {},
   "source": [
    "##### <h1><center> 1. Methodology</center></h1>\n",
    "\n",
    "<left><b>  The loop at the end of this code will evaluate investing in all different permutations of:</b> <br><br>\n",
    "    - 55 different investment lenght periods (from 1 year to 55 years) <br><br>\n",
    "    - 1,147 different starting dates (from July 1926 to December 2022, in increments of one month)  <br><br>\n",
    "    - grouping industries into categories in 23 different forms <br><br></left>\n",
    "    \n",
    " <left><b>   The possible combinations using the project datasets date restrictions are 1,054,550</b></left><b>\n",
    "<br><br>"
   ]
  },
  {
   "cell_type": "markdown",
   "id": "83fab7c3",
   "metadata": {},
   "source": [
    "Calculating Loop Permutations:\n"
   ]
  },
  {
   "cell_type": "code",
   "execution_count": 3,
   "id": "83333a92",
   "metadata": {},
   "outputs": [],
   "source": [
    "investment_scenarios = 0\n",
    "\n",
    "for h in range(1,24):\n",
    "    bin_quantity = h\n",
    "    for i in range(1,56):\n",
    "        for k in range(0,100,1):\n",
    "                \n",
    "                    end_date_shift = k\n",
    "                    end_date = 202313 - (end_date_shift*100)\n",
    "                    investment_time_in_years = i\n",
    "                    start_date = end_date - (investment_time_in_years*100)\n",
    
    "                    for x in range(0,12):\n",
    "                        start_date = start_date -  1\n",
    "                       \n",
    "                        last_two_sd = int(str(start_date)[-2:])\n",
    "                        end_date = start_date + (investment_time_in_years*100)\n",
    "                                             \n",
    "                         \n",
    "                        if start_date > 202108:\n",
    "                         continue\n",
    "                        if last_two_sd > 13:\n",
    "                         continue\n",
    "                        if last_two_sd == 0:\n",
    "                         continue\n",
    "                        if start_date < 192607:\n",
    "                         continue \n",
    "\n",
    "                        #print('start date ' , start_date, 'end date ', end_date , 'inv period' , i , 'date dif' , (end_date - start_date), 'k ' ,k , 'bin' ,h ,'x=',x)\n",
    "                        investment_scenarios += 1\n"
   ]
  },
  {
   "cell_type": "code",
   "execution_count": 4,
   "id": "0e4b0c18",
   "metadata": {},
   "outputs": [
    {
     "name": "stdout",
     "output_type": "stream",
     "text": [
      "Investment Scenarios for all bins: 1054550 - Estimated Run Time in Hours:  328.08\n"
     ]
    }
   ],
   "source": [
    "\n",
    "Estimated_secs_per_scenario = 1.12 #prior time estimate per scenario\n",
    "print('Investment Scenarios for all bins: ' + str(investment_scenarios) + ' - Estimated Run Time in Hours: ' , (round((investment_scenarios*Estimated_secs_per_scenario)/3600,2)))\n",
    "            "
   ]
  },
  {
   "cell_type": "markdown",
   "id": "13b970d6",
   "metadata": {},
   "source": [
    "<h1><center> 2. Implementation</center></h1>\n"
   ]
  },
  {
   "cell_type": "code",
   "execution_count": null,
   "id": "aad5076d",
   "metadata": {
    "scrolled": true
   },
   "outputs": [],
   "source": [
    "import pandas as pd\n",
    "pd.set_option('display.max_rows', 210)\n",
    "import yfinance as yf \n",
    "import matplotlib.pyplot as plt\n",
    "import seaborn as sns \n",
    "import statsmodels.formula.api as smf \n",
    "import scipy.stats as stats\n",
    "import numpy as np\n",
    "import datetime\n",
    "import plotly.express as px\n",
    "import time"
   ]
  },
  {
   "cell_type": "code",
   "execution_count": null,
   "id": "e4f94685",
   "metadata": {
    "scrolled": true
   },
   "outputs": [],
   "source": [
    "# Reading Fama and French Datasets\n",
    "DF_Monthly_Rets_ValW = pd.read_csv('C:/Users/rodri/Desktop/RUNIM5ML/FPCS/Data/DF1 - 49_Ind_P_Monthly_Rets_Val_W.csv',skiprows=0)\n",
    "DF_Monthly_Rets_EqualW = pd.read_csv('C:/Users/rodri/Desktop/RUNIM5ML/FPCS/Data/DF2 - 49_Ind_P_Monthly_Rets_EQ_W.csv',skiprows=0)\n",
    "DF_Monthly_FirmsbyIndustry = pd.read_csv('C:/Users/rodri/Desktop/RUNIM5ML/FPCS/Data/DF3 - 49_Ind_P_Monthly_Number_of_Firms.csv',skiprows=0)\n",
    "DF_Monthly_Avg_Firm_Size = pd.read_csv('C:/Users/rodri/Desktop/RUNIM5ML/FPCS/Data/DF4 - 49_Ind_P_Monthly_Avg_Firm_Size.csv',skiprows=0)"
   ]
  },
  {
   "cell_type": "code",
   "execution_count": null,
   "id": "b823011c",
   "metadata": {
    "scrolled": true
   },
   "outputs": [],
   "source": [
    "# Creating Benchmarks for both Value Weighted and Equal Weighted returns data frames. \n",
    "# Benchmark will be the mean of all industries for each date\n",
    "# Removing date column from returns data frame \n",
    "DF_Monthly_Rets_ValW_2 = DF_Monthly_Rets_ValW.drop(columns=['Date'])\n",
    "DF_Monthly_Rets_EqualW_2 = DF_Monthly_Rets_EqualW.drop(columns=['Date'])"
   ]
  },
  {
   "cell_type": "code",
   "execution_count": null,
   "id": "7aa8fce4",
   "metadata": {
    "scrolled": true
   },
   "outputs": [],
   "source": [
    "# Calculating the mean of all industries for a given period but not taking into\n",
    "#   Account industries in which unaccouted values are expressed as -99.99\n",
    "DF_Monthly_Rets_ValW_BM = pd.DataFrame()\n",
    "DF_Monthly_Rets_EqualW_BM = pd.DataFrame()\n",
    "\n",
    "#Value Weighted Benchmark\n",
    "DF_Monthly_Rets_ValW_BM['Date'] = DF_Monthly_Rets_ValW['Date']\n",
    "DF_Monthly_Rets_ValW_BM['Date FF'] = DF_Monthly_Rets_ValW['Date']\n",
    "DF_Monthly_Rets_ValW_BM['BenchMark_ValW'] = DF_Monthly_Rets_ValW_2.where(DF_Monthly_Rets_ValW_2 != -99.99).mean(axis=1)\n",
    "DF_Monthly_Rets_ValW_BM['Date'] = pd.to_datetime(DF_Monthly_Rets_ValW_BM['Date FF'], format=\"%Y%m\") \n",
    "DF_Monthly_Rets_ValW_BM['Date'] = DF_Monthly_Rets_ValW_BM['Date'].dt.date \n",
    "DF_Monthly_Rets_ValW_BM.index = DF_Monthly_Rets_ValW_BM['Date']\n",
    "DF_Monthly_Rets_ValW_BM = DF_Monthly_Rets_ValW_BM.drop(columns=['Date'])\n",
    "\n",
    "#Equal Weighted Benchmark\n",
    "DF_Monthly_Rets_EqualW_BM['Date'] = DF_Monthly_Rets_EqualW['Date']\n",
    "DF_Monthly_Rets_EqualW_BM['Date FF'] = DF_Monthly_Rets_EqualW['Date']\n",
    "DF_Monthly_Rets_EqualW_BM['BenchMark_EqualW'] = DF_Monthly_Rets_EqualW_2.where(DF_Monthly_Rets_EqualW_2 != -99.99).mean(axis=1)\n",
    "DF_Monthly_Rets_EqualW_BM['Date'] = pd.to_datetime(DF_Monthly_Rets_EqualW_BM['Date FF'], format=\"%Y%m\") \n",
    "DF_Monthly_Rets_EqualW_BM['Date'] = DF_Monthly_Rets_EqualW_BM['Date'].dt.date \n",
    "DF_Monthly_Rets_EqualW_BM.index =DF_Monthly_Rets_EqualW_BM['Date']\n",
    "DF_Monthly_Rets_EqualW_BM = DF_Monthly_Rets_EqualW_BM.drop(columns=['Date'])"
   ]
  },
  {
   "cell_type": "code",
   "execution_count": null,
   "id": "b5ba4981",
   "metadata": {
    "scrolled": true
   },
   "outputs": [],
   "source": [
    "# Benchmark now is shifted one period ahead. Since the benchmark selects all industries invest in them \n",
    "# in the current period and accrues the return in next period.\n",
    "\n",
    "DF_Monthly_Rets_ValW_BM['BenchMark_ValW_Lead_1'] = DF_Monthly_Rets_ValW_BM['BenchMark_ValW'].shift(-1)\n",
    "DF_Monthly_Rets_EqualW_BM['BenchMark_EqualW_Lead_1'] = DF_Monthly_Rets_EqualW_BM['BenchMark_EqualW'].shift(-1)\n"
   ]
  },
  {
   "cell_type": "code",
   "execution_count": null,
   "id": "c893ade3",
   "metadata": {
    "scrolled": true
   },
   "outputs": [],
   "source": [
    "# Creating an Industry Name Dictionary \n",
    "industry_name_dict = dict()\n",
    "for i in DF_Monthly_Rets_ValW:\n",
    "      if i != 'Date':\n",
    "           industry_name_dict[i] = i"
   ]
  },
  {
   "cell_type": "code",
   "execution_count": null,
   "id": "4ebe3983",
   "metadata": {
    "scrolled": true
   },
   "outputs": [],
   "source": [
    "# Creating an Industry Dataframe for each industry combaning information of the 4 initial Fama and French Datasets\n",
    "industry_dict = dict()\n",
    "#%% Adding Lead variables, and benchmark\n",
    "\n",
    "    \n",
    "for i in industry_name_dict:  \n",
    "    df = pd.DataFrame()\n",
    "    df['Date FF'] = DF_Monthly_Rets_ValW['Date']\n",
    "    df['Indsury'] = i\n",
    "    df['Firms by Industry'] = DF_Monthly_FirmsbyIndustry[i]\n",
    "    df['Avg Firm Size'] = DF_Monthly_Avg_Firm_Size[i]\n",
    "    df['Ret_ValW'] = DF_Monthly_Rets_ValW[i]\n",
    "    df['Ret_ValW_Lead1'] = DF_Monthly_Rets_ValW[i].shift(-1)\n",
    "    df['Ret_EqualW'] = DF_Monthly_Rets_EqualW[i]\n",
    "    df['Ret_EqualW_lead1'] = DF_Monthly_Rets_EqualW[i].shift(-1)\n",
    "    industry_dict[i] = df\n",
    "    "
   ]
  },
  {
   "cell_type": "code",
   "execution_count": null,
   "id": "e1298b89",
   "metadata": {
    "scrolled": true
   },
   "outputs": [],
   "source": [
    "#Making a single Data Frame with all industries for Cross Sectional Analysis\n",
    "Ind_Cross_Section_DF = pd.DataFrame()\n",
    "df2 = pd.DataFrame()\n",
    "for i in industry_dict.items():\n",
    "            df2 = i[1]\n",
    "            Ind_Cross_Section_DF =Ind_Cross_Section_DF.append(df2) "
   ]
  },
  {
   "cell_type": "code",
   "execution_count": null,
   "id": "6cff74af",
   "metadata": {
    "scrolled": true
   },
   "outputs": [],
   "source": [
    "#Date transformatin from string or int to datetime\n",
    "Ind_Cross_Section_DF['Date'] = pd.to_datetime(Ind_Cross_Section_DF['Date FF'], format=\"%Y%m\") \n",
    "Ind_Cross_Section_DF['Date'] = Ind_Cross_Section_DF['Date'].dt.date "
   ]
  },
  {
   "cell_type": "code",
   "execution_count": null,
   "id": "6dde0ce0",
   "metadata": {
    "scrolled": true
   },
   "outputs": [],
   "source": [
    "#  Sort by Date\n",
    "Ind_Cross_Section_DF = Ind_Cross_Section_DF.sort_values(by=['Date'])"
   ]
  },
  {
   "cell_type": "code",
   "execution_count": null,
   "id": "60e7ed7b",
   "metadata": {
    "scrolled": true
   },
   "outputs": [],
   "source": [
    "# Removing Nan Values - Fama and French database expresses them as -99.99\n",
    "Ind_Cross_Section_DF = Ind_Cross_Section_DF.loc[Ind_Cross_Section_DF[\"Ret_ValW\"] != -99.99 ]\n",
    "Ind_Cross_Section_DF = Ind_Cross_Section_DF.loc[Ind_Cross_Section_DF[\"Ret_EqualW\"] != -99.99 ]\n",
    "Ind_Cross_Section_DF = Ind_Cross_Section_DF.loc[Ind_Cross_Section_DF[\"Avg Firm Size\"] != -99.99 ]"
   ]
  },
  {
   "cell_type": "code",
   "execution_count": null,
   "id": "633f00b7",
   "metadata": {
    "scrolled": true
   },
   "outputs": [],
   "source": [
    "# The full data set has a range from July 1926 to August 2022"
   ]
  },
  {
   "cell_type": "markdown",
   "id": "6b26cc1e",
   "metadata": {},
   "source": [
    "<h2><center> Analysis in Different Time Periods 1 Million Scenarios - Full Sample Period 1926-2022</center></h2>\n",
    "\n"
   ]
  },
  {
   "cell_type": "code",
   "execution_count": null,
   "id": "905a864f",
   "metadata": {},
   "outputs": [],
   "source": [
    "data1 = [] \n",
    "data2 = []\n",
    "data3 = []\n",
    "data4 = []\n",
    "data5 = []\n",
    "data6 = []\n",
    "data7 = []\n",
    "data8 = []\n",
    "data9 = []\n",
    "data10 = []\n",
    "data11 = []\n",
    "data12 = []\n",
    "data13 = []\n",
    "data14 = []\n",
    "data15 = []\n",
    "data16 = []\n",
    "data17 = []\n",
    "data18 = []\n",
    "data19 = []\n",
    "\n",
    "\n",
    "\n",
    "\n",
    "investment_scenarios = 0\n",
    "\n",
    "start_time = time.time()\n",
    "\n",
    "for h in range(1,24):\n",
    "    bin_quantity = h\n",
    "    for i in range(1,56):\n",
    "        for k in range(0,100,1):\n",
    "                \n",
    "                    \n",
    "                    Ind_Cross_Section_DF = pd.DataFrame()\n",
    "                    df2 = pd.DataFrame()\n",
    "                    for j in industry_dict.items():\n",
    "                        df2 = j[1]\n",
    "                        Ind_Cross_Section_DF =Ind_Cross_Section_DF.append(df2) \n",
    "                    Ind_Cross_Section_DF['Date'] = pd.to_datetime(Ind_Cross_Section_DF['Date FF'], format=\"%Y%m\") \n",
    "                    Ind_Cross_Section_DF['Date'] = Ind_Cross_Section_DF['Date'].dt.date       \n",
    "                    Ind_Cross_Section_DF = Ind_Cross_Section_DF.sort_values(by=['Date'])\n",
    "                    Ind_Cross_Section_DF = Ind_Cross_Section_DF.loc[Ind_Cross_Section_DF[\"Ret_ValW\"] != -99.99 ]\n",
    "                    Ind_Cross_Section_DF = Ind_Cross_Section_DF.loc[Ind_Cross_Section_DF[\"Ret_EqualW\"] != -99.99 ]\n",
    "                    Ind_Cross_Section_DF = Ind_Cross_Section_DF.loc[Ind_Cross_Section_DF[\"Avg Firm Size\"] != -99.99 ]\n",
    "\n",
    "                \n",
    "                    end_date_shift = k\n",
    "                    end_date = 202313 - (end_date_shift*100)\n",
    "                    investment_time_in_years = i\n",
    "                    start_date = end_date - (investment_time_in_years*100)\n",
    "                    #202112\n",
    "                    for x in range(0,12):\n",
    "                        start_date = start_date -  1\n",
    "                       \n",
    "                        last_two_sd = int(str(start_date)[-2:])\n",
    "                        end_date = start_date + (investment_time_in_years*100)\n",
    "                        \n",
    "                        if start_date > 202108:\n",
    "                         continue\n",
    "                        if last_two_sd > 13:\n",
    "                         continue\n",
    "                        if last_two_sd == 0:\n",
    "                         continue\n",
    "                        if start_date < 192607:\n",
    "                         continue\n",
    "                        \n",
    "                        Ind_Cross_Section_DF =  Ind_Cross_Section_DF[(Ind_Cross_Section_DF[\"Date FF\"] > start_date) & (Ind_Cross_Section_DF[\"Date FF\"] <= end_date)]\n",
    "\n",
    "                        #print('start date ' , start_date, 'end date ', end_date , 'inv period' , i , 'date dif' , (end_date - start_date), 'k ' ,k , 'bin' ,h ,'x=',x)\n",
    "                        investment_scenarios += 1\n",
    "\n",
    "                        Ind_Cross_Section_DF['Group_Firms by Industry'] = Ind_Cross_Section_DF.groupby('Date')['Firms by Industry'].transform(lambda x: pd.qcut(x, bin_quantity, labels= False, duplicates = 'drop')) # \n",
    "                        # Creating a return dataframe returns are shifted one period ahead.\n",
    "                        firms_by_industry_q_rets_ValueW = pd.pivot_table(Ind_Cross_Section_DF, values='Ret_ValW_Lead1',index='Date',columns='Group_Firms by Industry',aggfunc=np.mean, fill_value=0)\n",
    "                        firms_by_industry_q_rets_ValueW['Long Strategy Ret'] = firms_by_industry_q_rets_ValueW[0.0]/100\n",
    "                        firms_by_industry_q_rets_ValueW['Long Strategy Cumm Ret'] = firms_by_industry_q_rets_ValueW['Long Strategy Ret'].add(1).cumprod()\n",
    "                        #Adding the Benchmark\n",
    "                        df_firms_by_industry_q_rets_ValueW = pd.merge(firms_by_industry_q_rets_ValueW ,DF_Monthly_Rets_ValW_BM['BenchMark_ValW_Lead_1'].divide(100),left_index=True,right_index=True,how='left')\n",
    "                        # Adding the cummulative benchmark return\n",
    "                        df_firms_by_industry_q_rets_ValueW['BenchMark_ValW_Cumm_Ret_Lead_1'] = df_firms_by_industry_q_rets_ValueW['BenchMark_ValW_Lead_1'].add(1).cumprod()\n",
    "                        #Creating Results Dataframe\n",
    "                        data1.append(bin_quantity)\n",
    "                        data2.append(firms_by_industry_q_rets_ValueW['Long Strategy Ret'].mean()*12) \n",
    "                        data3.append(firms_by_industry_q_rets_ValueW['Long Strategy Ret'].std()*(12**.5))\n",
    "                        data4.append((firms_by_industry_q_rets_ValueW['Long Strategy Ret'].mean()*12)/(firms_by_industry_q_rets_ValueW['Long Strategy Ret'].std()*(12**.5)))\n",
    "                        data5.append(df_firms_by_industry_q_rets_ValueW['BenchMark_ValW_Lead_1'].mean()*12) \n",
    "                        data6.append(df_firms_by_industry_q_rets_ValueW['BenchMark_ValW_Lead_1'].std()*(12**.5)) \n",
    "                        data7.append((df_firms_by_industry_q_rets_ValueW['BenchMark_ValW_Lead_1'].mean()*12)/(df_firms_by_industry_q_rets_ValueW['BenchMark_ValW_Lead_1'].std()*(12**.5)))\n",
    "                        data8.append(firms_by_industry_q_rets_ValueW['Long Strategy Cumm Ret'].iat[-1])\n",
    "                        data9.append(df_firms_by_industry_q_rets_ValueW['BenchMark_ValW_Cumm_Ret_Lead_1'].iat[-1])\n",
    "                        data10.append(start_date)\n",
    "                        data11.append(investment_time_in_years)\n",
    "                        data12.append(end_date)\n",
    "                        data13.append((firms_by_industry_q_rets_ValueW['Long Strategy Cumm Ret'].iat[-1])/(df_firms_by_industry_q_rets_ValueW['BenchMark_ValW_Cumm_Ret_Lead_1'].iat[-1])-1)\n",
    "\n",
    "\n",
    "                        number_of_bins = pd.DataFrame(data1, columns=['Number of bins / Ranking Categories'])\n",
    "                        Long_strat_annual_return  = pd.DataFrame(data2,  columns=['Long Strategy Mean Annual Ret'])    \n",
    "                        Long_strat_standard_deviation  = pd.DataFrame(data3,  columns=['Long Strategy Standard Deviation'])    \n",
    "                        Long_strat_Return_Risk_Ratio = pd.DataFrame(data4,  columns=['Long Strategy Return Risk Ratio'])    \n",
    "                        BM_mean_annual_return  = pd.DataFrame(data5,  columns=['Benchmark Annual Ret'])    \n",
    "                        BM_standard_deviation  = pd.DataFrame(data6,  columns=['Benchmark Standard Deviation Ret']) \n",
    "                        BM_Return_Risk_Ratio = pd.DataFrame(data7,  columns=['Benchmark Return Risk Ratio']) \n",
    "                        Strat_Return_from_first_to_last_period =     pd.DataFrame(data8,  columns=['Strategy Total Cummulative Return']) \n",
    "                        BM_Return_from_first_to_last_period =     pd.DataFrame(data9,  columns=['BenchMark Total Cummulative Return'])\n",
    "\n",
    "                        start_date_df =     pd.DataFrame(data10,  columns=['Investment Start Date']) \n",
    "                        start_date_df['Investment Start Date'] = pd.to_datetime(start_date_df['Investment Start Date'], format=\"%Y%m\") \n",
    "                        investment_years_df =     pd.DataFrame(data11,  columns=['Investment Period in Years']) \n",
    "                        end_date_df =     pd.DataFrame(data12,  columns=['Investment End Date']) \n",
    "                        end_date_df['Investment End Date'] = pd.to_datetime(end_date_df['Investment End Date'], format=\"%Y%m\") \n",
    "                        strat_performance_vs_benchmark =  pd.DataFrame(data13,  columns=['Strategy Return Performance vs Benchmark Return'])\n",
    "                        strat_performance_vs_benchmark['Strategy Return Performance vs Benchmark Return'] = strat_performance_vs_benchmark['Strategy Return Performance vs Benchmark Return'].astype(float).map(\"{:.2%}\".format)\n",
    "                        Strategy_returns_table = pd.concat([number_of_bins,start_date_df,end_date_df,investment_years_df,strat_performance_vs_benchmark ,Strat_Return_from_first_to_last_period,Long_strat_annual_return,\n",
    "                                                    Long_strat_standard_deviation,Long_strat_Return_Risk_Ratio,BM_Return_from_first_to_last_period,\n",
    "                                                    BM_mean_annual_return,BM_standard_deviation,BM_Return_Risk_Ratio  ], axis=1)\n",
    "\n",
    "\n",
    "    \n",
    "    data14.append('Categorizing industries into ' + str(bin_quantity) + ' bins/categories')\n",
    "    data15.append((Strategy_returns_table[Strategy_returns_table['Number of bins / Ranking Categories']==h]['Strategy Return Performance vs Benchmark Return'].str.rstrip('%').astype(float).mean())/100)\n",
    "    data16.append(round(Strategy_returns_table[Strategy_returns_table['Number of bins / Ranking Categories']==h]['Long Strategy Mean Annual Ret'].mean(),5))\n",
    "    data17.append(round(Strategy_returns_table[Strategy_returns_table['Number of bins / Ranking Categories']==h]['Long Strategy Standard Deviation'].mean(),5))\n",
    "    data18.append(round(Strategy_returns_table[Strategy_returns_table['Number of bins / Ranking Categories']==h]['Benchmark Annual Ret'].mean(),5))\n",
    "    data19.append(round(Strategy_returns_table[Strategy_returns_table['Number of bins / Ranking Categories']==h]['Benchmark Standard Deviation Ret'].mean(),5))\n",
    "    \n",
    "    \n",
    "    strategy_desc = pd.DataFrame(data14, columns=['Strategy Investing in firms with the lowest industries per firm'])        \n",
    "    average_overperformance_per_bin_qty = pd.DataFrame(data15, columns=['Average Overperformance of Strategy in ' + str((investment_scenarios)/(len(Strategy_returns_table['Number of bins / Ranking Categories'].unique()))) + ' test Scenarios'])        \n",
    "    average_overperformance_per_bin_qty['Average Overperformance of Strategy in ' + str((investment_scenarios)/(len(Strategy_returns_table['Number of bins / Ranking Categories'].unique()))) + ' test Scenarios'] = average_overperformance_per_bin_qty['Average Overperformance of Strategy in ' + str((investment_scenarios)/(len(Strategy_returns_table['Number of bins / Ranking Categories'].unique()))) + ' test Scenarios'].astype(float).map(\"{:.2%}\".format)\n",
    "    \n",
    "    \n",
    "    average_strategy_annual_return = pd.DataFrame(data16, columns=['Average Strategy Annualized Return'])\n",
    "    average_strategy_annual_return['Average Strategy Annualized Return'] = average_strategy_annual_return['Average Strategy Annualized Return'].astype(float).map(\"{:.3%}\".format)\n",
    "    \n",
    "    average_strategy_standard_deviation = pd.DataFrame(data17, columns=['Average Strategy Standard Deviation'])\n",
    "    average_strategy_standard_deviation['Average Strategy Standard Deviation'] = average_strategy_standard_deviation['Average Strategy Standard Deviation'].astype(float).map(\"{:.3%}\".format)\n",
    "    \n",
    "\n",
    "    average_benchmark_annual_return = pd.DataFrame(data18, columns=['Average Benchmark Annualized Return'])\n",
    "    average_benchmark_annual_return['Average Benchmark Annualized Return'] = average_benchmark_annual_return['Average Benchmark Annualized Return'].astype(float).map(\"{:.3%}\".format)\n",
    "    \n",
    "    average_benchmark_standard_deviation = pd.DataFrame(data19, columns=['Average Benchmark Standard Deviation'])\n",
    "    average_benchmark_standard_deviation['Average Benchmark Standard Deviation'] = average_benchmark_standard_deviation['Average Benchmark Standard Deviation'].astype(float).map(\"{:.3%}\".format)\n",
    "    \n",
    "    \n",
    "    \n",
    "    Total_average_returns_per_bin = pd.concat([ strategy_desc, average_overperformance_per_bin_qty, average_strategy_annual_return,  average_strategy_standard_deviation,average_benchmark_annual_return,average_benchmark_standard_deviation ], axis=1)\n",
    "end_time = time.time()\n",
    "\n"
   ]
  },
  {
   "cell_type": "code",
   "execution_count": null,
   "id": "e42fa16f",
   "metadata": {},
   "outputs": [],
   "source": [
    "print('Investment Scenarios: ' + str(investment_scenarios)  + ' - Run Time: ' , round(end_time - start_time , 2) , ' seconds')"
   ]
  },
  {
   "cell_type": "code",
   "execution_count": null,
   "id": "e53c32f5",
   "metadata": {},
   "outputs": [],
   "source": [
    "Strategy_returns_table"
   ]
  },
  {
   "cell_type": "code",
   "execution_count": null,
   "id": "3fd30e18",
   "metadata": {},
   "outputs": [],
   "source": [
    "Total_average_returns_per_bin "
   ]
  },
  {
   "cell_type": "code",
   "execution_count": null,
   "id": "bb69f14a",
   "metadata": {},
   "outputs": [],
   "source": [
    "Total_average_returns_per_bin['Average Overperformance of Strategy in ' + str((investment_scenarios)/(len(Strategy_returns_table['Number of bins / Ranking Categories'].unique()))) + ' test Scenarios'].max()"
   ]
  },
  {
   "cell_type": "code",
   "execution_count": null,
   "id": "7241fc36",
   "metadata": {},
   "outputs": [],
   "source": []
  },
  {
   "cell_type": "code",
   "execution_count": null,
   "id": "2a287c4d",
   "metadata": {},
   "outputs": [],
   "source": []
  }
 ],
 "metadata": {
  "kernelspec": {
   "display_name": "Python 3",
   "language": "python",
   "name": "python3"
  },
  "language_info": {
   "codemirror_mode": {
    "name": "ipython",
    "version": 3
   },
   "file_extension": ".py",
   "mimetype": "text/x-python",
   "name": "python",
   "nbconvert_exporter": "python",
   "pygments_lexer": "ipython3",
   "version": "3.8.8"
  }
 },
 "nbformat": 4,
 "nbformat_minor": 5
}
